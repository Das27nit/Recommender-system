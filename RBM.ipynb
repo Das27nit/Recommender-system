{
  "nbformat": 4,
  "nbformat_minor": 0,
  "metadata": {
    "colab": {
      "name": "RBM.ipynb",
      "provenance": []
    },
    "kernelspec": {
      "name": "python3",
      "display_name": "Python 3"
    }
  },
  "cells": [
    {
      "cell_type": "markdown",
      "metadata": {
        "id": "fo5dVEpAwxtH",
        "colab_type": "text"
      },
      "source": [
        "Downloading the dataset\n"
      ]
    },
    {
      "cell_type": "code",
      "metadata": {
        "id": "29s5ZJOVwmvz",
        "colab_type": "code",
        "colab": {
          "base_uri": "https://localhost:8080/",
          "height": 109
        },
        "outputId": "79f8a9af-81be-4898-97cb-5e9929d9e723"
      },
      "source": [
        "\n",
        "!unzip ml-100k.zip\n",
        "!ls"
      ],
      "execution_count": 34,
      "outputs": [
        {
          "output_type": "stream",
          "text": [
            "Archive:  ml-100k.zip\n",
            "replace ml-100k/allbut.pl? [y]es, [n]o, [A]ll, [N]one, [r]ename: n\n",
            "replace ml-100k/mku.sh? [y]es, [n]o, [A]ll, [N]one, [r]ename: n\n",
            "replace ml-100k/README? [y]es, [n]o, [A]ll, [N]one, [r]ename: N\n",
            "ml-100k  ml-100k.zip  sample_data\n"
          ],
          "name": "stdout"
        }
      ]
    },
    {
      "cell_type": "markdown",
      "metadata": {
        "id": "Iusu2LVfxDwA",
        "colab_type": "text"
      },
      "source": [
        "Libraries"
      ]
    },
    {
      "cell_type": "code",
      "metadata": {
        "id": "GdJ2o6dhxF2Q",
        "colab_type": "code",
        "colab": {}
      },
      "source": [
        "import numpy as np\n",
        "import pandas as pd\n",
        "import torch\n",
        "import torch.nn as nn\n",
        "import torch.nn.parallel\n",
        "import torch.optim as optim\n",
        "import torch.utils.data\n",
        "from torch.autograd import Variable"
      ],
      "execution_count": 35,
      "outputs": []
    },
    {
      "cell_type": "markdown",
      "metadata": {
        "id": "zo_3KMxQxQ1U",
        "colab_type": "text"
      },
      "source": [
        "Training set and the Test set"
      ]
    },
    {
      "cell_type": "code",
      "metadata": {
        "id": "bCPFuVrQxUHD",
        "colab_type": "code",
        "colab": {}
      },
      "source": [
        "training_set = pd.read_csv('ml-100k/u1.base', delimiter = '\\t')\n",
        "training_set = np.array(training_set, dtype = 'int')\n",
        "test_set = pd.read_csv('ml-100k/u1.test', delimiter = '\\t')\n",
        "test_set = np.array(test_set, dtype = 'int')"
      ],
      "execution_count": 36,
      "outputs": []
    },
    {
      "cell_type": "markdown",
      "metadata": {
        "id": "o5SM6QA-zjho",
        "colab_type": "text"
      },
      "source": [
        "Total no of users and movies"
      ]
    },
    {
      "cell_type": "code",
      "metadata": {
        "id": "7u0JiHV0zr6S",
        "colab_type": "code",
        "colab": {}
      },
      "source": [
        "nb_users = int(max(max(training_set[:, 0], ), max(test_set[:, 0])))\n",
        "nb_movies = int(max(max(training_set[:, 1], ), max(test_set[:, 1])))"
      ],
      "execution_count": 37,
      "outputs": []
    },
    {
      "cell_type": "markdown",
      "metadata": {
        "id": "we9y2Oar0Yre",
        "colab_type": "text"
      },
      "source": [
        "converting data into list of lists, users as rows and movies as columns and ratings will be the cell values"
      ]
    },
    {
      "cell_type": "code",
      "metadata": {
        "id": "GmruUx2B0mZO",
        "colab_type": "code",
        "colab": {}
      },
      "source": [
        "def convert(data):\n",
        "  new_data = []\n",
        "  for id_users in range(1, nb_users + 1):\n",
        "    id_movies = data[:, 1] [data[:, 0] == id_users]\n",
        "    id_ratings = data[:, 2] [data[:, 0] == id_users]\n",
        "    ratings = np.zeros(nb_movies)\n",
        "    ratings[id_movies - 1] = id_ratings\n",
        "    new_data.append(list(ratings))\n",
        "  return new_data\n",
        "training_set = convert(training_set)\n",
        "test_set = convert(test_set)"
      ],
      "execution_count": 38,
      "outputs": []
    },
    {
      "cell_type": "markdown",
      "metadata": {
        "id": "2a60hlQM9Pk9",
        "colab_type": "text"
      },
      "source": [
        "converting training_set and test_set into torch tensors"
      ]
    },
    {
      "cell_type": "code",
      "metadata": {
        "id": "ikW3HwsP9WCP",
        "colab_type": "code",
        "colab": {}
      },
      "source": [
        "training_set = torch.FloatTensor(training_set)\n",
        "test_set = torch.FloatTensor(test_set)"
      ],
      "execution_count": 39,
      "outputs": []
    },
    {
      "cell_type": "markdown",
      "metadata": {
        "id": "U7vxtpwG9dgY",
        "colab_type": "text"
      },
      "source": [
        "Converting ratings into binary values ie. 1==liked, 0==disliked"
      ]
    },
    {
      "cell_type": "code",
      "metadata": {
        "id": "Ya5WAWR29b8F",
        "colab_type": "code",
        "colab": {}
      },
      "source": [
        "training_set[training_set == 0] = -1\n",
        "training_set[training_set == 1] = 0\n",
        "training_set[training_set == 2] = 0\n",
        "training_set[training_set >= 3] = 1\n",
        "test_set[test_set == 0] = -1\n",
        "test_set[test_set == 1] = 0\n",
        "test_set[test_set == 2] = 0\n",
        "test_set[test_set >= 3] = 1"
      ],
      "execution_count": 40,
      "outputs": []
    },
    {
      "cell_type": "markdown",
      "metadata": {
        "id": "1QdCqFHK9yKm",
        "colab_type": "text"
      },
      "source": [
        "creating the class for RBM"
      ]
    },
    {
      "cell_type": "code",
      "metadata": {
        "id": "YVUlqw5F919M",
        "colab_type": "code",
        "colab": {}
      },
      "source": [
        "class RBM():\n",
        "  def __init__(self, nv, nh):\n",
        "    self.W = torch.randn(nh, nv)\n",
        "    self.a = torch.randn(1, nh)\n",
        "    self.b = torch.randn(1, nv)\n",
        "  def sample_h(self, x):\n",
        "    wx = torch.mm(x, self.W.t())\n",
        "    activation = wx + self.a.expand_as(wx)\n",
        "    p_h_given_v = torch.sigmoid(activation)\n",
        "    return p_h_given_v, torch.bernoulli(p_h_given_v)\n",
        "  def sample_v(self, y):\n",
        "    wy = torch.mm(y, self.W)\n",
        "    activation = wy + self.b.expand_as(wy)\n",
        "    p_v_given_h = torch.sigmoid(activation)\n",
        "    return p_v_given_h, torch.bernoulli(p_v_given_h)\n",
        "  def train(self, v0, vk, ph0, phk):\n",
        "    self.W += (torch.mm(v0.t(), ph0) - torch.mm(vk.t(), phk)).t()\n",
        "    self.b += torch.sum((v0 - vk), 0)\n",
        "    self.a += torch.sum((ph0 - phk), 0)"
      ],
      "execution_count": 41,
      "outputs": []
    },
    {
      "cell_type": "markdown",
      "metadata": {
        "id": "sOE6krs2-QeG",
        "colab_type": "text"
      },
      "source": [
        "creating the object of class"
      ]
    },
    {
      "cell_type": "code",
      "metadata": {
        "id": "kaKP3Miu-UUJ",
        "colab_type": "code",
        "colab": {}
      },
      "source": [
        "nv = len(training_set[0])\n",
        "nh = 100\n",
        "batch_size = 100\n",
        "rbm = RBM(nv, nh)"
      ],
      "execution_count": 42,
      "outputs": []
    },
    {
      "cell_type": "markdown",
      "metadata": {
        "id": "mJdjTvjf-mMB",
        "colab_type": "text"
      },
      "source": [
        "Training the RBM"
      ]
    },
    {
      "cell_type": "code",
      "metadata": {
        "id": "27bKmBn8-lJV",
        "colab_type": "code",
        "colab": {
          "base_uri": "https://localhost:8080/",
          "height": 201
        },
        "outputId": "b1694f3b-5cc9-4f3f-d9a9-1610dd95831a"
      },
      "source": [
        "nb_epoch = 10\n",
        "for epoch in range(1, nb_epoch + 1):\n",
        "  train_loss = 0\n",
        "  s = 0.\n",
        "  for id_user in range(0, nb_users - batch_size, batch_size):\n",
        "    vk = training_set[id_user : id_user + batch_size]\n",
        "    v0 = training_set[id_user : id_user + batch_size]\n",
        "    ph0,_ = rbm.sample_h(v0)\n",
        "    for k in range(10):\n",
        "      _,hk = rbm.sample_h(vk)\n",
        "      _,vk = rbm.sample_v(hk)\n",
        "      vk[v0<0] = v0[v0<0]\n",
        "    phk,_ = rbm.sample_h(vk)\n",
        "    rbm.train(v0, vk, ph0, phk)\n",
        "    train_loss += torch.mean(torch.abs(v0[v0 >= 0] - vk[v0 >= 0]))\n",
        "    s += 1.\n",
        "  print('epoch: '+str(epoch)+' loss: '+str(train_loss/s))"
      ],
      "execution_count": 43,
      "outputs": [
        {
          "output_type": "stream",
          "text": [
            "epoch: 1 loss: tensor(0.3726)\n",
            "epoch: 2 loss: tensor(0.2560)\n",
            "epoch: 3 loss: tensor(0.2500)\n",
            "epoch: 4 loss: tensor(0.2533)\n",
            "epoch: 5 loss: tensor(0.2488)\n",
            "epoch: 6 loss: tensor(0.2469)\n",
            "epoch: 7 loss: tensor(0.2518)\n",
            "epoch: 8 loss: tensor(0.2498)\n",
            "epoch: 9 loss: tensor(0.2501)\n",
            "epoch: 10 loss: tensor(0.2477)\n"
          ],
          "name": "stdout"
        }
      ]
    },
    {
      "cell_type": "markdown",
      "metadata": {
        "id": "oYqQwYWb_OnM",
        "colab_type": "text"
      },
      "source": [
        "Testing the RBM (how well it works)"
      ]
    },
    {
      "cell_type": "code",
      "metadata": {
        "id": "5bLbTLhO_S42",
        "colab_type": "code",
        "colab": {
          "base_uri": "https://localhost:8080/",
          "height": 35
        },
        "outputId": "2a40307f-fbbf-421f-ef33-9fc739b27309"
      },
      "source": [
        "test_loss = 0\n",
        "s = 0.\n",
        "for id_user in range(nb_users):\n",
        "    v = training_set[id_user:id_user+1]\n",
        "    vt = test_set[id_user:id_user+1]\n",
        "    if len(vt[vt>=0]) > 0:\n",
        "        _,h = rbm.sample_h(v)\n",
        "        _,v = rbm.sample_v(h)\n",
        "        test_loss += torch.mean(torch.abs(vt[vt>=0] - v[vt>=0]))\n",
        "        s += 1.\n",
        "print('test loss: '+str(test_loss/s))"
      ],
      "execution_count": 44,
      "outputs": [
        {
          "output_type": "stream",
          "text": [
            "test loss: tensor(0.2515)\n"
          ],
          "name": "stdout"
        }
      ]
    },
    {
      "cell_type": "markdown",
      "metadata": {
        "id": "IyjabGUFBUca",
        "colab_type": "text"
      },
      "source": [
        "Testing (predictions) for a particular user (1st user)"
      ]
    },
    {
      "cell_type": "code",
      "metadata": {
        "id": "bARb7AC5BJsb",
        "colab_type": "code",
        "colab": {}
      },
      "source": [
        "test_loss=0\n",
        "v = training_set[1:2]\n",
        "vt = test_set[1:2]\n",
        "_,h = rbm.sample_h(v)\n",
        "_,v = rbm.sample_v(h)\n"
      ],
      "execution_count": 45,
      "outputs": []
    },
    {
      "cell_type": "code",
      "metadata": {
        "id": "a6qPBNMmCbf1",
        "colab_type": "code",
        "colab": {
          "base_uri": "https://localhost:8080/",
          "height": 35
        },
        "outputId": "4e654919-8600-4310-cb3c-8be481df4481"
      },
      "source": [
        "test_loss += torch.mean(torch.abs(vt[vt>=0] - v[vt>=0]))\n",
        "print('test loss: '+str(test_loss))"
      ],
      "execution_count": 46,
      "outputs": [
        {
          "output_type": "stream",
          "text": [
            "test loss: tensor(0.3636)\n"
          ],
          "name": "stdout"
        }
      ]
    }
  ]
}